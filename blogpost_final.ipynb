{
 "cells": [
  {
   "cell_type": "markdown",
   "metadata": {
    "application/vnd.databricks.v1+cell": {
     "cellMetadata": {
      "byteLimit": 2048000,
      "rowLimit": 10000
     },
     "inputWidgets": {},
     "nuid": "2f7100f5-907d-4c0b-9bc5-bc8359c74273",
     "showTitle": false,
     "title": ""
    },
    "id": "OwmkmmBvY74K"
   },
   "source": [
    "## You.com x LangChain\n",
    "\n",
    "### YouRetriever\n",
    "Today we are excited to announce the release of `YouRetriever`, the easiest way to get access to the You.com Search API. The You.com Search API is designed by LLMs for LLMs with an emphasis on Retrieval Augmented Generation (RAG) applications. We accomplish this by evaluating our API on a number of datasets to benchmark performance of LLMs in the RAG-QA setting. In this blog post we will compare and contrast the You.com Search API with the Google Search API as well as give the reader the tools to evaluate LLMs in the RAG-QA setting. We will evaluate our retriever performance on [Hotpot QA](https://github.com/hotpotqa/hotpot) using the `RetrievalQA` Chain. Hotpot is a dataset which is comprised of a question, answer, and context. The context can vary in relevance to the question/answer with a special \"distractor\" setting where the LLM needs to not be distracted by certain misleading text within the context. In this experiment we will be removing the context from the dataset and replacing it with text snippets which come back from the search APIs. In this sense the entire internet is the distractor text since the APIs are responsible for finding the answer to the question across the entire internet not just within the list of snippets supplied in the dataset. We call this the \"web distractor\" setting for evaluating search APIs with respect to their performance being used in conjunction with an LLM."
   ]
  },
  {
   "cell_type": "code",
   "execution_count": null,
   "metadata": {
    "application/vnd.databricks.v1+cell": {
     "cellMetadata": {
      "byteLimit": 2048000,
      "rowLimit": 10000
     },
     "inputWidgets": {},
     "nuid": "0852b222-8a4d-46ad-91b8-00167c497b1e",
     "showTitle": false,
     "title": ""
    },
    "id": "tEZce4pEY74M",
    "outputId": "e6230919-6c07-4b4b-925c-97d5d05f39ce"
   },
   "outputs": [
    {
     "name": "stdout",
     "output_type": "stream",
     "text": [
      "\n",
      "\u001b[1m[\u001b[0m\u001b[34;49mnotice\u001b[0m\u001b[1;39;49m]\u001b[0m\u001b[39;49m A new release of pip available: \u001b[0m\u001b[31;49m22.3.1\u001b[0m\u001b[39;49m -> \u001b[0m\u001b[32;49m23.3\u001b[0m\n",
      "\u001b[1m[\u001b[0m\u001b[34;49mnotice\u001b[0m\u001b[1;39;49m]\u001b[0m\u001b[39;49m To update, run: \u001b[0m\u001b[32;49mpip install --upgrade pip\u001b[0m\n",
      "Note: you may need to restart the kernel to use updated packages.\n"
     ]
    }
   ],
   "source": [
    "pip install -q langchain==0.0.314 datasets google-api-python-client"
   ]
  },
  {
   "cell_type": "markdown",
   "metadata": {
    "application/vnd.databricks.v1+cell": {
     "cellMetadata": {
      "byteLimit": 2048000,
      "rowLimit": 10000
     },
     "inputWidgets": {},
     "nuid": "09a7227f-e821-4a0c-ac0c-e845c2fb3edf",
     "showTitle": false,
     "title": ""
    },
    "id": "uOuyv_KAY74N"
   },
   "source": [
    "### Initialization\n",
    "All you need to initialize a `YouRetriever` is to set the environment variable `YDC_API_KEY`. We are currently in an alpha status and keys are available by invitation only. If you are interested in being an early access partner please email api@you.com with your usecase, background, and expected daily load. You will also need an OpenAI key along with credentials to the Google Search API to run the rest of the notebook."
   ]
  },
  {
   "cell_type": "code",
   "execution_count": null,
   "metadata": {
    "application/vnd.databricks.v1+cell": {
     "cellMetadata": {
      "byteLimit": 2048000,
      "rowLimit": 10000
     },
     "inputWidgets": {},
     "nuid": "662237eb-81de-4469-a10d-4fe7aa27ebe3",
     "showTitle": false,
     "title": ""
    },
    "id": "3wZVuphfY74O"
   },
   "outputs": [],
   "source": [
    "import os\n",
    "\n",
    "\n",
    "os.environ[\"YDC_API_KEY\"] = \"\"\n",
    "os.environ[\"OPENAI_API_KEY\"] = \"\"\n",
    "os.environ[\"GOOGLE_CSE_ID\"] = \"\"\n",
    "os.environ[\"GOOGLE_API_KEY\"] = \"\""
   ]
  },
  {
   "cell_type": "code",
   "execution_count": null,
   "metadata": {
    "id": "f5KihQJzY74O"
   },
   "outputs": [],
   "source": [
    "from langchain.retrievers.you import YouRetriever\n",
    "\n",
    "\n",
    "yr = YouRetriever()"
   ]
  },
  {
   "cell_type": "markdown",
   "metadata": {
    "application/vnd.databricks.v1+cell": {
     "cellMetadata": {
      "byteLimit": 2048000,
      "rowLimit": 10000
     },
     "inputWidgets": {},
     "nuid": "e3688933-6f27-4773-ba7b-c5c7dab737ba",
     "showTitle": false,
     "title": ""
    },
    "id": "rl6g0fciY74O"
   },
   "source": [
    "### Retrieval\n",
    "The first thing you will notice about our text snippets is that we provide larger text snippets when we can and will soon have the option for specifying the amount of text you want returned from a single snippet to the entire page. Let's ask it about the greatest pinball player ever, Keith Elwin"
   ]
  },
  {
   "cell_type": "code",
   "execution_count": null,
   "metadata": {
    "application/vnd.databricks.v1+cell": {
     "cellMetadata": {
      "byteLimit": 2048000,
      "rowLimit": 10000
     },
     "inputWidgets": {},
     "nuid": "9f76b96a-3530-420d-aa38-2d9a22af6a0e",
     "showTitle": false,
     "title": ""
    },
    "id": "KTNFNa83Y74O",
    "outputId": "287b9ce5-a190-4b45-b5c8-fbe591c90d46"
   },
   "outputs": [
    {
     "data": {
      "text/plain": [
       "[Document(page_content='You can help Pinball Wiki by expanding it. ... Keith Elwin is a game designer and professionally-ranked pinball player. With multiple PAPA victories and being ranked first several times in the IFPA World Pinball Rankings, he is often considered to be one of the best players in the world.'),\n",
       " Document(page_content='Keith Elwin is a game designer and professionally-ranked pinball player. With multiple PAPA victories and being ranked first several times in the IFPA World Pinball Rankings, he is often considered to be one of the best players in the world. In 2017, Elwin was hired by Stern Pinball as a game designer.'),\n",
       " Document(page_content=\"In 2017, Elwin was hired by Stern Pinball as a game designer. His first game, Iron Maiden: Legacy of the Beast, was released a year later with a design based on Elwin's homebrew game Archer.\"),\n",
       " Document(page_content='This page was printed from https://pinside.com/pinball/machine/keith-elwin and we tried optimising it for printing. Some page elements may have been deliberately hidden.'),\n",
       " Document(page_content='Elwin at the 2019 Pinball Expo.Keith Elwin is a professional pinball player turned designer from California. He started as an operator and technician and made a name for himself as an exceptionally skilled player in the competitive scene, frequently making it to the very top of the PAPA rankings and winning many tournaments. (This is part of why Star Wars (Stern) uses his initials, \"KME\", as the default for the top of the high score list.) He also created a homebrew pinball table based on Archer in 2015, bringing it to 2016\\'s Pinball Expo for attendees to play.'),\n",
       " Document(page_content=\"This caught Stern Pinball's attention, leading to the company hiring him \\x96 fulfilling his lifelong dream of becoming a pinball designer in the process. His first game, Iron Maiden: Legacy of the Beast, is a reworked version of his Archer design featuring a new license.\"),\n",
       " Document(page_content='http://tvtropes.org/pmwiki/pmwiki.php/Creator/KeithElwin ... Elwin at the 2019 Pinball Expo.Keith Elwin is a professional pinball player turned designer from California. He started as an operator and technician and made a name for himself as an exceptionally skilled player in the competitive scene, frequently making it to the very top of the PAPA rankings and winning many tournaments.'),\n",
       " Document(page_content='If you are a seasoned pinball player and have been following the scene for a while, the name Keith Elwin means fun, innovative and awesome pinball machines. For the casual pinballers that don’t know or notice who designs the pinball machines they love playing, if we were to mention Stern Pinball’s Iron Maiden or Jurassic Park, then you have Keith Elwin to thank.'),\n",
       " Document(page_content='Keith is the new pinball designer on the block who has just finished his third game for Stern Pinball, Avengers Infinity Quest! Just looking at the video and pics further below of Keith’s latest creation, we know you’ll all be itching to play it, just like we are – it’s screaming at us to be played! ... Before we dive into questions about Avengers Infinity Quest, we thought we’d start with introducing Keith Elwin and how he got started designing homebrew machines and then progressing to the big league in getting a job at Stern Pinball Inc.!'),\n",
       " Document(page_content='AUSRETROGAMER [ARG]: Hey Keith, to help our audience get to know you, tell us, before you became a household name in the pinball design space, what were you up to? Keith Elwin [KME]: I was a pinball operator and technician actually! I had games in San Diego and Los Angeles.'),\n",
       " Document(page_content='Well there you have it folks, Mr Keith Elwin of Stern Pinball Inc. fame – the Pinball Design Avenger! Remember that name, remember the pinball machines, as we guarantee you’ll love playing them all. We thank Keith for his time and wish him the best with whatever pinball magic he creates in the future.'),\n",
       " Document(page_content='The commendation reads: “Continuing its mission to honour those that have made an outstanding contribution to the enjoyment of Pinball around the World, it is with great pleasure, the UK Pinball Hall of Fame recognises the achievements of Keith Elwin: Pinball Designer, for excellence and innovation.” · Elwin said: “I am humbled and honored to be recognized along with legendary designers.'),\n",
       " Document(page_content='Keith Elwin is the latest inductee into the U.K. Pinball Hall of Fame. Its chairman Gary Flower recently visited the Stern Pinball office in Elk Grove Village, Illinois, to present Elwin with the award. (Stern’s George Gomez accepted the award on Keith’s behalf.)'),\n",
       " Document(page_content='You are at:Home»INSTANT REPLAY»Keith Elwin in U.K. Pinball Hall of Fame ... Keith Elwin is the latest inductee into the U.K. Pinball Hall of Fame. Its chairman Gary Flower recently visited the Stern Pinball office in Elk Grove Village, Illinois, to present Elwin with the award.'),\n",
       " Document(page_content='Its chairman Gary Flower recently visited the Stern Pinball office in Elk Grove Village, Illinois, to present Elwin with the award. (Stern’s George Gomez accepted the award on Keith’s behalf.) The commendation reads: “Continuing its mission to honour those that have made an outstanding contribution to the enjoyment of Pinball around the World, it is with great pleasure, the UK Pinball Hall of Fame recognises the achievements of Keith Elwin: Pinball Designer, for excellence and innovation.”'),\n",
       " Document(page_content='Stern Pinball. About this time you may have realized that now, Keith Elwin and · Lyman Sheats now work for the same company. When can we start the hype train for that first Keith Elwin designed /Lyman Sheats programmed game?'),\n",
       " Document(page_content='When can we start the hype train for that first Keith Elwin designed /Lyman Sheats programmed game? Hurry up everyone, the hype train is leaving the station! Get on it! Now it’s time for some gross, unsubstantiated speculation: Are there any bands with a decent license with rockets as part of their theme? Could Stern Pinball really get the Archer license? ... sound of people’s faiths in pinball being restored.'),\n",
       " Document(page_content='This is a Good Thing ™ to have happened in the world of pinball. We have been wondering when we would be getting new pinball designers in the industry. Well, how about a'),\n",
       " Document(page_content='Plus, Keith is switching it up quite a bit, which I like. His second design doesn\\'t look or feel like his first. His first game is relatively non-linear, while his second game is much more linear. At this point, how much leverage would Elwin actually have in being able to control his own design? He\\'s the new guy at Stern. Does he have the power to say, \"I want a widebody\" and get it? ... The subreddit for pinball lovers, collectors, and competitors.'),\n",
       " Document(page_content='At this point, how much leverage would Elwin actually have in being able to control his own design? He\\'s the new guy at Stern. Does he have the power to say, \"I want a widebody\" and get it? ... The subreddit for pinball lovers, collectors, and competitors. ... Pinball lovers unite!'),\n",
       " Document(page_content='Moved to an area that is severely lacking in pinball, so have been out of the loop for a few years. Had to Google Keith, and it looks like he has only done two machines for Stern, and Archer on his own. Are there others? And where can you find an Archer pin? Sounds interesting... ... Archer was turned into iron maiden. I own his Jurassic Park. They both are great games. ... Keith Elwin became pinball-famous as a player, then designed his own home-brew machine, Archer.'),\n",
       " Document(page_content='If you want to get a glimpse into how a pinball designing genius works to create a machine that is universally lauded by pinball players around the world, then check out the below snaps of Jurassic Park pinball’s development from the one and only, Keith Elwin! Not only do these photos show how Keith works and iterates his designs, but it shows that he and Stern Pinball have a sense of humour – it’s not fun being serious all the time!'),\n",
       " Document(page_content='Not only do these photos show how Keith works and iterates his designs, but it shows that he and Stern Pinball have a sense of humour – it’s not fun being serious all the time! After-all, it’s only pinball 😉 · Thanks to Keith for posting these photos on his personal Facebook account.'),\n",
       " Document(page_content=\"Check out some of Keith Elwin's development pictures and behind the scenes looks at the creation of his latest title, Jurassic Park!\"),\n",
       " Document(page_content=\"Haha we posted our topics at the exact same time. https://pinside.com/pinball/forum/topic/world-champion-keith-elwin-is-now-working-for-stern · Mine was 1 second ahead of yours, if you check the timestamp ... It's a shame, because it doesn't mean much if Stern can't finish coding a machine. The best layout in the world won't save a game with bad or missing code. ... too bad both were after this one: https://pinside.com/pinball/forum/topic/no-posts-about-kme-working-for-stern\"),\n",
       " Document(page_content='This page was printed from https://pinside.com/pinball/forum/topic/keith-elwin-joins-stern-pinball and we tried optimising it for printing. Some page elements may have been deliberately hidden.'),\n",
       " Document(page_content=\"Was really hoping someone would hire Keith. I hope they don't restrict his designs too much. ... Congrats to Keith! ... This is exactly what we need: new blood in the pinball design department!\"),\n",
       " Document(page_content=\"This is exactly what we need: new blood in the pinball design department! The layout for Archer looks amazing to me based on the videos I've seen. Seems likely that this layout will now make it to production. Congrats Keith! ... Interesting. Once worked for an op. Great player. Nice person. Neat step in his pinball history.\")]"
      ]
     },
     "execution_count": 25,
     "metadata": {},
     "output_type": "execute_result"
    }
   ],
   "source": [
    "yr.get_relevant_documents(\"keith elwin pinball designer\")"
   ]
  },
  {
   "cell_type": "markdown",
   "metadata": {
    "application/vnd.databricks.v1+cell": {
     "cellMetadata": {
      "byteLimit": 2048000,
      "rowLimit": 10000
     },
     "inputWidgets": {},
     "nuid": "d352ad71-2ae2-47d7-98b8-cac3e03e932f",
     "showTitle": false,
     "title": ""
    },
    "id": "q_Ms-ugOY74O"
   },
   "source": [
    "### Results\n",
    "You can see that even with the default settings we return 27 text snippets about the great Keith and some of the documents contain a decent amount of text. This makes our search API especially powerful for LLMs operating in the RAG-QA setting. But don't take my word for it, let's try it out on Hotpot QA."
   ]
  },
  {
   "cell_type": "markdown",
   "metadata": {
    "application/vnd.databricks.v1+cell": {
     "cellMetadata": {
      "byteLimit": 2048000,
      "rowLimit": 10000
     },
     "inputWidgets": {},
     "nuid": "54d68afb-9a7f-45f1-891c-74adb23f2a0c",
     "showTitle": false,
     "title": ""
    },
    "id": "7jCSMoG6Y74P"
   },
   "source": [
    "### Hotpot QA\n",
    "Let's take a look at an example from Hotpot. We load this up from the [Huggingface dataset](https://huggingface.co/datasets/hotpot_qa) using the datasets library. We use the fullwiki setting here instead of the distractor but as we said before, we'll be using our own context powered by the search APIs instead of what comes off the shelf."
   ]
  },
  {
   "cell_type": "code",
   "execution_count": null,
   "metadata": {
    "application/vnd.databricks.v1+cell": {
     "cellMetadata": {
      "byteLimit": 2048000,
      "rowLimit": 10000
     },
     "inputWidgets": {},
     "nuid": "49d13a74-25d0-40b8-8668-f88f599de707",
     "showTitle": false,
     "title": ""
    },
    "id": "h-ZHS7QwY74P"
   },
   "outputs": [],
   "source": [
    "from datasets import load_dataset\n",
    "\n",
    "\n",
    "hotpot_ds = load_dataset(\"hotpot_qa\", \"fullwiki\")[\"train\"]"
   ]
  },
  {
   "cell_type": "code",
   "execution_count": null,
   "metadata": {
    "application/vnd.databricks.v1+cell": {
     "cellMetadata": {
      "byteLimit": 2048000,
      "rowLimit": 10000
     },
     "inputWidgets": {},
     "nuid": "46ee1a02-47dc-4e8b-9dba-77359df046c2",
     "showTitle": false,
     "title": ""
    },
    "id": "BI0CkVSkY74P",
    "outputId": "21c893ef-0b30-4cb8-a42d-8706dfa02d15"
   },
   "outputs": [
    {
     "data": {
      "text/plain": [
       "{'id': '5a7a06935542990198eaf050',\n",
       " 'question': \"Which magazine was started first Arthur's Magazine or First for Women?\",\n",
       " 'answer': \"Arthur's Magazine\",\n",
       " 'type': 'comparison',\n",
       " 'level': 'medium',\n",
       " 'supporting_facts': {'title': [\"Arthur's Magazine\", 'First for Women'],\n",
       "  'sent_id': [0, 0]},\n",
       " 'context': {'title': ['Radio City (Indian radio station)',\n",
       "   'History of Albanian football',\n",
       "   'Echosmith',\n",
       "   \"Women's colleges in the Southern United States\",\n",
       "   'First Arthur County Courthouse and Jail',\n",
       "   \"Arthur's Magazine\",\n",
       "   '2014–15 Ukrainian Hockey Championship',\n",
       "   'First for Women',\n",
       "   'Freeway Complex Fire',\n",
       "   'William Rast'],\n",
       "  'sentences': [[\"Radio City is India's first private FM radio station and was started on 3 July 2001.\",\n",
       "    ' It broadcasts on 91.1 (earlier 91.0 in most cities) megahertz from Mumbai (where it was started in 2004), Bengaluru (started first in 2001), Lucknow and New Delhi (since 2003).',\n",
       "    ' It plays Hindi, English and regional songs.',\n",
       "    ' It was launched in Hyderabad in March 2006, in Chennai on 7 July 2006 and in Visakhapatnam October 2007.',\n",
       "    ' Radio City recently forayed into New Media in May 2008 with the launch of a music portal - PlanetRadiocity.com that offers music related news, videos, songs, and other music-related features.',\n",
       "    ' The Radio station currently plays a mix of Hindi and Regional music.',\n",
       "    ' Abraham Thomas is the CEO of the company.'],\n",
       "   ['Football in Albania existed before the Albanian Football Federation (FSHF) was created.',\n",
       "    \" This was evidenced by the team's registration at the Balkan Cup tournament during 1929-1931, which started in 1929 (although Albania eventually had pressure from the teams because of competition, competition started first and was strong enough in the duels) .\",\n",
       "    ' Albanian National Team was founded on June 6, 1930, but Albania had to wait 16 years to play its first international match and then defeated Yugoslavia in 1946.',\n",
       "    ' In 1932, Albania joined FIFA (during the 12–16 June convention ) And in 1954 she was one of the founding members of UEFA.'],\n",
       "   ['Echosmith is an American, Corporate indie pop band formed in February 2009 in Chino, California.',\n",
       "    ' Originally formed as a quartet of siblings, the band currently consists of Sydney, Noah and Graham Sierota, following the departure of eldest sibling Jamie in late 2016.',\n",
       "    ' Echosmith started first as \"Ready Set Go!\"',\n",
       "    ' until they signed to Warner Bros.',\n",
       "    ' Records in May 2012.',\n",
       "    ' They are best known for their hit song \"Cool Kids\", which reached number 13 on the \"Billboard\" Hot 100 and was certified double platinum by the RIAA with over 1,200,000 sales in the United States and also double platinum by ARIA in Australia.',\n",
       "    ' The song was Warner Bros.',\n",
       "    \" Records' fifth-biggest-selling-digital song of 2014, with 1.3 million downloads sold.\",\n",
       "    ' The band\\'s debut album, \"Talking Dreams\", was released on October 8, 2013.'],\n",
       "   [\"Women's colleges in the Southern United States refers to undergraduate, bachelor's degree–granting institutions, often liberal arts colleges, whose student populations consist exclusively or almost exclusively of women, located in the Southern United States.\",\n",
       "    \" Many started first as girls' seminaries or academies.\",\n",
       "    ' Salem College is the oldest female educational institution in the South and Wesleyan College is the first that was established specifically as a college for women.',\n",
       "    ' Some schools, such as Mary Baldwin University and Salem College, offer coeducational courses at the graduate level.'],\n",
       "   ['The First Arthur County Courthouse and Jail, was perhaps the smallest court house in the United States, and serves now as a museum.'],\n",
       "   [\"Arthur's Magazine (1844–1846) was an American literary periodical published in Philadelphia in the 19th century.\",\n",
       "    ' Edited by T.S. Arthur, it featured work by Edgar A. Poe, J.H. Ingraham, Sarah Josepha Hale, Thomas G. Spear, and others.',\n",
       "    ' In May 1846 it was merged into \"Godey\\'s Lady\\'s Book\".'],\n",
       "   ['The 2014–15 Ukrainian Hockey Championship was the 23rd season of the Ukrainian Hockey Championship.',\n",
       "    ' Only four teams participated in the league this season, because of the instability in Ukraine and that most of the clubs had economical issues.',\n",
       "    ' Generals Kiev was the only team that participated in the league the previous season, and the season started first after the year-end of 2014.',\n",
       "    ' The regular season included just 12 rounds, where all the teams went to the semifinals.',\n",
       "    ' In the final, ATEK Kiev defeated the regular season winner HK Kremenchuk.'],\n",
       "   [\"First for Women is a woman's magazine published by Bauer Media Group in the USA.\",\n",
       "    ' The magazine was started in 1989.',\n",
       "    ' It is based in Englewood Cliffs, New Jersey.',\n",
       "    ' In 2011 the circulation of the magazine was 1,310,696 copies.'],\n",
       "   ['The Freeway Complex Fire was a 2008 wildfire in the Santa Ana Canyon area of Orange County, California.',\n",
       "    ' The fire started as two separate fires on November 15, 2008.',\n",
       "    ' The \"Freeway Fire\" started first shortly after 9am with the \"Landfill Fire\" igniting approximately 2 hours later.',\n",
       "    ' These two separate fires merged a day later and ultimately destroyed 314 residences in Anaheim Hills and Yorba Linda.'],\n",
       "   ['William Rast is an American clothing line founded by Justin Timberlake and Trace Ayala.',\n",
       "    ' It is most known for their premium jeans.',\n",
       "    ' On October 17, 2006, Justin Timberlake and Trace Ayala put on their first fashion show to launch their new William Rast clothing line.',\n",
       "    ' The label also produces other clothing items such as jackets and tops.',\n",
       "    ' The company started first as a denim line, later evolving into a men’s and women’s clothing line.']]}}"
      ]
     },
     "execution_count": 27,
     "metadata": {},
     "output_type": "execute_result"
    }
   ],
   "source": [
    "hotpot_ds[0]"
   ]
  },
  {
   "cell_type": "code",
   "execution_count": null,
   "metadata": {
    "application/vnd.databricks.v1+cell": {
     "cellMetadata": {
      "byteLimit": 2048000,
      "rowLimit": 10000
     },
     "inputWidgets": {},
     "nuid": "99c64235-9435-4e5f-9ade-d26d5e20f40a",
     "showTitle": false,
     "title": ""
    },
    "id": "5ClHLFsbY74P",
    "outputId": "92109f32-0505-438f-fa0d-27746ab80eef"
   },
   "outputs": [
    {
     "data": {
      "text/plain": [
       "\"Which magazine was started first Arthur's Magazine or First for Women?\""
      ]
     },
     "execution_count": 28,
     "metadata": {},
     "output_type": "execute_result"
    }
   ],
   "source": [
    "hotpot_ds[0][\"question\"]"
   ]
  },
  {
   "cell_type": "markdown",
   "metadata": {
    "application/vnd.databricks.v1+cell": {
     "cellMetadata": {
      "byteLimit": 2048000,
      "rowLimit": 10000
     },
     "inputWidgets": {},
     "nuid": "6806e8e6-4dac-414c-a844-53982687b02c",
     "showTitle": false,
     "title": ""
    },
    "id": "6ooPBj2vY74Q"
   },
   "source": [
    "The first question is asking about 2 magazines Arthur's Magazine and First for Women, specifically which was started first. I have never heard of either of these and indeed Hotpot is chock full of extremely niche questions which require knowledge across a large swath of time. Let's look at the context."
   ]
  },
  {
   "cell_type": "code",
   "execution_count": null,
   "metadata": {
    "application/vnd.databricks.v1+cell": {
     "cellMetadata": {
      "byteLimit": 2048000,
      "rowLimit": 10000
     },
     "inputWidgets": {},
     "nuid": "110cffb5-fc06-488e-a632-305362c22db0",
     "showTitle": false,
     "title": ""
    },
    "id": "AzaYZuvNY74Q",
    "outputId": "52235edc-2123-45f0-cd77-f309fb311fab"
   },
   "outputs": [
    {
     "data": {
      "text/plain": [
       "[[\"Radio City is India's first private FM radio station and was started on 3 July 2001.\",\n",
       "  ' It broadcasts on 91.1 (earlier 91.0 in most cities) megahertz from Mumbai (where it was started in 2004), Bengaluru (started first in 2001), Lucknow and New Delhi (since 2003).',\n",
       "  ' It plays Hindi, English and regional songs.',\n",
       "  ' It was launched in Hyderabad in March 2006, in Chennai on 7 July 2006 and in Visakhapatnam October 2007.',\n",
       "  ' Radio City recently forayed into New Media in May 2008 with the launch of a music portal - PlanetRadiocity.com that offers music related news, videos, songs, and other music-related features.',\n",
       "  ' The Radio station currently plays a mix of Hindi and Regional music.',\n",
       "  ' Abraham Thomas is the CEO of the company.'],\n",
       " ['Football in Albania existed before the Albanian Football Federation (FSHF) was created.',\n",
       "  \" This was evidenced by the team's registration at the Balkan Cup tournament during 1929-1931, which started in 1929 (although Albania eventually had pressure from the teams because of competition, competition started first and was strong enough in the duels) .\",\n",
       "  ' Albanian National Team was founded on June 6, 1930, but Albania had to wait 16 years to play its first international match and then defeated Yugoslavia in 1946.',\n",
       "  ' In 1932, Albania joined FIFA (during the 12–16 June convention ) And in 1954 she was one of the founding members of UEFA.'],\n",
       " ['Echosmith is an American, Corporate indie pop band formed in February 2009 in Chino, California.',\n",
       "  ' Originally formed as a quartet of siblings, the band currently consists of Sydney, Noah and Graham Sierota, following the departure of eldest sibling Jamie in late 2016.',\n",
       "  ' Echosmith started first as \"Ready Set Go!\"',\n",
       "  ' until they signed to Warner Bros.',\n",
       "  ' Records in May 2012.',\n",
       "  ' They are best known for their hit song \"Cool Kids\", which reached number 13 on the \"Billboard\" Hot 100 and was certified double platinum by the RIAA with over 1,200,000 sales in the United States and also double platinum by ARIA in Australia.',\n",
       "  ' The song was Warner Bros.',\n",
       "  \" Records' fifth-biggest-selling-digital song of 2014, with 1.3 million downloads sold.\",\n",
       "  ' The band\\'s debut album, \"Talking Dreams\", was released on October 8, 2013.'],\n",
       " [\"Women's colleges in the Southern United States refers to undergraduate, bachelor's degree–granting institutions, often liberal arts colleges, whose student populations consist exclusively or almost exclusively of women, located in the Southern United States.\",\n",
       "  \" Many started first as girls' seminaries or academies.\",\n",
       "  ' Salem College is the oldest female educational institution in the South and Wesleyan College is the first that was established specifically as a college for women.',\n",
       "  ' Some schools, such as Mary Baldwin University and Salem College, offer coeducational courses at the graduate level.'],\n",
       " ['The First Arthur County Courthouse and Jail, was perhaps the smallest court house in the United States, and serves now as a museum.'],\n",
       " [\"Arthur's Magazine (1844–1846) was an American literary periodical published in Philadelphia in the 19th century.\",\n",
       "  ' Edited by T.S. Arthur, it featured work by Edgar A. Poe, J.H. Ingraham, Sarah Josepha Hale, Thomas G. Spear, and others.',\n",
       "  ' In May 1846 it was merged into \"Godey\\'s Lady\\'s Book\".'],\n",
       " ['The 2014–15 Ukrainian Hockey Championship was the 23rd season of the Ukrainian Hockey Championship.',\n",
       "  ' Only four teams participated in the league this season, because of the instability in Ukraine and that most of the clubs had economical issues.',\n",
       "  ' Generals Kiev was the only team that participated in the league the previous season, and the season started first after the year-end of 2014.',\n",
       "  ' The regular season included just 12 rounds, where all the teams went to the semifinals.',\n",
       "  ' In the final, ATEK Kiev defeated the regular season winner HK Kremenchuk.'],\n",
       " [\"First for Women is a woman's magazine published by Bauer Media Group in the USA.\",\n",
       "  ' The magazine was started in 1989.',\n",
       "  ' It is based in Englewood Cliffs, New Jersey.',\n",
       "  ' In 2011 the circulation of the magazine was 1,310,696 copies.'],\n",
       " ['The Freeway Complex Fire was a 2008 wildfire in the Santa Ana Canyon area of Orange County, California.',\n",
       "  ' The fire started as two separate fires on November 15, 2008.',\n",
       "  ' The \"Freeway Fire\" started first shortly after 9am with the \"Landfill Fire\" igniting approximately 2 hours later.',\n",
       "  ' These two separate fires merged a day later and ultimately destroyed 314 residences in Anaheim Hills and Yorba Linda.'],\n",
       " ['William Rast is an American clothing line founded by Justin Timberlake and Trace Ayala.',\n",
       "  ' It is most known for their premium jeans.',\n",
       "  ' On October 17, 2006, Justin Timberlake and Trace Ayala put on their first fashion show to launch their new William Rast clothing line.',\n",
       "  ' The label also produces other clothing items such as jackets and tops.',\n",
       "  ' The company started first as a denim line, later evolving into a men’s and women’s clothing line.']]"
      ]
     },
     "execution_count": 29,
     "metadata": {},
     "output_type": "execute_result"
    }
   ],
   "source": [
    "hotpot_ds[0][\"context\"][\"sentences\"]"
   ]
  },
  {
   "cell_type": "markdown",
   "metadata": {
    "application/vnd.databricks.v1+cell": {
     "cellMetadata": {
      "byteLimit": 2048000,
      "rowLimit": 10000
     },
     "inputWidgets": {},
     "nuid": "f405e914-485a-46e4-b517-680024f77792",
     "showTitle": false,
     "title": ""
    },
    "id": "dmxNthbkY74Q"
   },
   "source": [
    "From the sentences we can see \"Arthur's Magazine (1844–1846)\" which we can assume means Arthur's ran from 1844-1846 while elsewhere it is mentioned \"First for Women is a woman's magazine published by Bauer Media Group in the USA. The magazine was started in 1989.\" which means Arthur's came out first. Sure enough that is the answer."
   ]
  },
  {
   "cell_type": "code",
   "execution_count": null,
   "metadata": {
    "application/vnd.databricks.v1+cell": {
     "cellMetadata": {
      "byteLimit": 2048000,
      "rowLimit": 10000
     },
     "inputWidgets": {},
     "nuid": "d7a95c30-535a-42fe-aba8-a703fa8890e8",
     "showTitle": false,
     "title": ""
    },
    "id": "9WhH3RB-Y74Q",
    "outputId": "abd35a1b-2e35-4bcc-8ad3-d463582a4124"
   },
   "outputs": [
    {
     "data": {
      "text/plain": [
       "\"Arthur's Magazine\""
      ]
     },
     "execution_count": 30,
     "metadata": {},
     "output_type": "execute_result"
    }
   ],
   "source": [
    "hotpot_ds[0][\"answer\"]"
   ]
  },
  {
   "cell_type": "markdown",
   "metadata": {
    "application/vnd.databricks.v1+cell": {
     "cellMetadata": {
      "byteLimit": 2048000,
      "rowLimit": 10000
     },
     "inputWidgets": {},
     "nuid": "f037caaf-cfbd-467f-8184-6962d5610427",
     "showTitle": false,
     "title": ""
    },
    "id": "NlauYxfKY74Q"
   },
   "source": [
    "Now let's use our `YouRetriever` in a RetrievalQA chain to see if we can answer this question using the the You.com Search API and GPT 3.5 Turbo."
   ]
  },
  {
   "cell_type": "code",
   "execution_count": null,
   "metadata": {
    "application/vnd.databricks.v1+cell": {
     "cellMetadata": {
      "byteLimit": 2048000,
      "rowLimit": 10000
     },
     "inputWidgets": {},
     "nuid": "9f7ea407-f9c7-4fc9-83be-ab0c8eaabe98",
     "showTitle": false,
     "title": ""
    },
    "id": "EeTV8YiqY74Q"
   },
   "outputs": [],
   "source": [
    "from langchain.chains import RetrievalQA\n",
    "from langchain.chat_models import ChatOpenAI\n",
    "\n",
    "\n",
    "model = \"gpt-3.5-turbo-16k\"\n",
    "qa = RetrievalQA.from_chain_type(llm=ChatOpenAI(model=model), chain_type=\"stuff\", retriever=yr)"
   ]
  },
  {
   "cell_type": "code",
   "execution_count": null,
   "metadata": {
    "application/vnd.databricks.v1+cell": {
     "cellMetadata": {
      "byteLimit": 2048000,
      "rowLimit": 10000
     },
     "inputWidgets": {},
     "nuid": "7b8a1f67-b9fb-4fc6-8001-73f621c4db9d",
     "showTitle": false,
     "title": ""
    },
    "id": "RkWUyw17Y74R",
    "outputId": "2669f232-0023-4bde-996e-f17c7b5299fe"
   },
   "outputs": [
    {
     "data": {
      "text/plain": [
       "\"Arthur's Magazine was started first. It was first published in 1852. First for Women, on the other hand, was launched much later.\""
      ]
     },
     "execution_count": 32,
     "metadata": {},
     "output_type": "execute_result"
    }
   ],
   "source": [
    "qa.run(hotpot_ds[0][\"question\"])"
   ]
  },
  {
   "cell_type": "markdown",
   "metadata": {
    "application/vnd.databricks.v1+cell": {
     "cellMetadata": {
      "byteLimit": 2048000,
      "rowLimit": 10000
     },
     "inputWidgets": {},
     "nuid": "3652fe82-b690-47ac-a4fd-4861aceec464",
     "showTitle": false,
     "title": ""
    },
    "id": "vm78BHYhY74R"
   },
   "source": [
    "We got it! Hurray! A quick note here is that we are using the 16k context window with GPT 3.5 Turbo because our API returns so much text by default it can overwhelm models with smaller context windows. Let's see what happens if we try the same thing with normal GPT 3.5 Turbo."
   ]
  },
  {
   "cell_type": "code",
   "execution_count": null,
   "metadata": {
    "application/vnd.databricks.v1+cell": {
     "cellMetadata": {
      "byteLimit": 2048000,
      "rowLimit": 10000
     },
     "inputWidgets": {},
     "nuid": "bd79590f-9747-4a78-afac-3dc577223ef2",
     "showTitle": false,
     "title": ""
    },
    "id": "oQWum6MxY74R",
    "outputId": "79da6819-84e7-4853-9156-e077bccaeffa"
   },
   "outputs": [
    {
     "name": "stdout",
     "output_type": "stream",
     "text": [
      "Boom! Too much text!\n"
     ]
    }
   ],
   "source": [
    "from openai.error import InvalidRequestError\n",
    "\n",
    "\n",
    "try:\n",
    "    small_context_model = \"gpt-3.5-turbo\"\n",
    "    small_context_qa = RetrievalQA.from_chain_type(llm=ChatOpenAI(model=small_context_model), chain_type=\"stuff\", retriever=yr)\n",
    "    small_context_qa.run(hotpot_ds[0][\"question\"])\n",
    "except InvalidRequestError:\n",
    "    print(\"Boom! Too much text!\")"
   ]
  },
  {
   "cell_type": "markdown",
   "metadata": {
    "application/vnd.databricks.v1+cell": {
     "cellMetadata": {
      "byteLimit": 2048000,
      "rowLimit": 10000
     },
     "inputWidgets": {},
     "nuid": "ba409228-13fc-4a56-9974-b0f3115796fc",
     "showTitle": false,
     "title": ""
    },
    "id": "_Dkgp6VIY74R"
   },
   "source": [
    "There are a few options you can employ here if you don't want to use a smaller context window model. The first is the cap the number of documents you feed from our API to the LLM. The other option is to use the [map_reduce chain](https://python.langchain.com/docs/modules/chains/document/map_reduce) type. The map_reduce chain type takes larger chunks of text and breaks them down to make them digestible by the LLM. This does mean that you will need to make multiple calls to the LLM which will mean slower run-time but you'll be able to process all the data returned from the `YouRetriever`."
   ]
  },
  {
   "cell_type": "code",
   "execution_count": null,
   "metadata": {
    "application/vnd.databricks.v1+cell": {
     "cellMetadata": {
      "byteLimit": 2048000,
      "rowLimit": 10000
     },
     "inputWidgets": {},
     "nuid": "4fd76e48-805d-4411-bd73-cbc56a8b8d21",
     "showTitle": false,
     "title": ""
    },
    "id": "gW8zmkA9Y74R"
   },
   "outputs": [],
   "source": [
    "mr_small_context_qa = RetrievalQA.from_chain_type(llm=ChatOpenAI(model=small_context_model), chain_type=\"map_reduce\", retriever=yr)\n",
    "mr_small_context_qa.run(hotpot_ds[0][\"question\"])"
   ]
  },
  {
   "cell_type": "markdown",
   "metadata": {
    "application/vnd.databricks.v1+cell": {
     "cellMetadata": {
      "byteLimit": 2048000,
      "rowLimit": 10000
     },
     "inputWidgets": {},
     "nuid": "1e862fa7-2868-4e13-8a6c-6653140a377a",
     "showTitle": false,
     "title": ""
    },
    "id": "EWrDBTvCY74R"
   },
   "source": [
    "The chain is able to run but we can no longer answer the question without the full payload of documents in-context at one time it would seem. This is what makes large context window models so exciting LLMs are becoming extremely good at using a ton of text to answer questions."
   ]
  },
  {
   "cell_type": "markdown",
   "metadata": {
    "application/vnd.databricks.v1+cell": {
     "cellMetadata": {
      "byteLimit": 2048000,
      "rowLimit": 10000
     },
     "inputWidgets": {},
     "nuid": "dc4a1efc-eb83-4d2d-a6b2-2d6e8e0cb491",
     "showTitle": false,
     "title": ""
    },
    "id": "I1p5vo_7Y74R"
   },
   "source": [
    "### Head-to-Head Evaluation\n",
    "Let's take a sample from Hotpot QA and compare our search API with one of the current alternatives in LangChain, the `GoogleSearchAPIWrapper`. This isn't a retriever in LangChain but it only takes a small amount of code to make an analog retriever. All we need to do is implement the `_get_relevant_documents` method of the abstract base class `BaseRetriever`. We should note here, that you could easily repeat this experiment and swap in another web search API like Bing. First let's create a small utility for the existing wrapper."
   ]
  },
  {
   "cell_type": "code",
   "execution_count": null,
   "metadata": {
    "application/vnd.databricks.v1+cell": {
     "cellMetadata": {
      "byteLimit": 2048000,
      "rowLimit": 10000
     },
     "inputWidgets": {},
     "nuid": "c05af793-5da5-4f4b-af27-751e73e04fd3",
     "showTitle": false,
     "title": ""
    },
    "id": "SvFI7Lp6Y74R"
   },
   "outputs": [],
   "source": [
    "from langchain.utilities import GoogleSearchAPIWrapper\n",
    "\n",
    "\n",
    "search = GoogleSearchAPIWrapper()\n",
    "\n",
    "def top10_results(query):\n",
    "    return search.results(query, 10)"
   ]
  },
  {
   "cell_type": "markdown",
   "metadata": {
    "application/vnd.databricks.v1+cell": {
     "cellMetadata": {
      "byteLimit": 2048000,
      "rowLimit": 10000
     },
     "inputWidgets": {},
     "nuid": "0c281620-2575-4808-8cff-6fc669d3a8eb",
     "showTitle": false,
     "title": ""
    },
    "id": "t7c3pHgaY74S"
   },
   "source": [
    "Now implement the `GoogleRetriever`."
   ]
  },
  {
   "cell_type": "code",
   "execution_count": null,
   "metadata": {
    "application/vnd.databricks.v1+cell": {
     "cellMetadata": {
      "byteLimit": 2048000,
      "rowLimit": 10000
     },
     "inputWidgets": {},
     "nuid": "0f2215fc-71b0-4fea-91c7-6e0f96e27b1b",
     "showTitle": false,
     "title": ""
    },
    "id": "tJXBPG_hY74S"
   },
   "outputs": [],
   "source": [
    "from langchain.schema.retriever import BaseRetriever, Document\n",
    "from typing import TYPE_CHECKING, Any, Dict, List, Optional\n",
    "from langchain.callbacks.manager import CallbackManagerForRetrieverRun, AsyncCallbackManagerForRetrieverRun\n",
    "\n",
    "\n",
    "class GoogleRetriever(BaseRetriever):\n",
    "    def __int__(self):\n",
    "        pass\n",
    "\n",
    "    def _get_relevant_documents(\n",
    "            self, query: str, *, run_manager: CallbackManagerForRetrieverRun\n",
    "    ) -> List[Document]:\n",
    "        return [Document(page_content=result.get(\"snippet\", \"\")) for result in top10_results(query)]\n",
    "\n",
    "    async def _aget_relevant_documents(\n",
    "            self,\n",
    "            query: str,\n",
    "            *,\n",
    "            run_manager: AsyncCallbackManagerForRetrieverRun,\n",
    "            **kwargs: Any,\n",
    "    ) -> List[Document]:\n",
    "        raise NotImplementedError()"
   ]
  },
  {
   "cell_type": "markdown",
   "metadata": {
    "id": "T_9dTjPoY74S"
   },
   "source": [
    "First, let's see the results of our new retriever on our test query."
   ]
  },
  {
   "cell_type": "code",
   "execution_count": null,
   "metadata": {
    "id": "XopFRiKKY74S",
    "outputId": "d23e726b-6727-4c86-ec94-7eae27c731c1"
   },
   "outputs": [
    {
     "data": {
      "text/plain": [
       "[Document(page_content='Keith Elwin was a member of the design team for the following pinball machines (ordered by date in descending order). Wishlist Collection Find on market\\xa0...'),\n",
       " Document(page_content='Keith Elwin is a professional pinball player turned designer from California. He started as an operator and technician and made a name for himself as an\\xa0...'),\n",
       " Document(page_content=\"“What is Keith Elwin's Top Pinball machines?” · Iron Maiden 16 votes. 20% · Jurassic Park 18 votes. 22% · Avengers infinity Quest 5 votes. 6% · Godzilla 37 votes.\"),\n",
       " Document(page_content=\"Aug 10, 2021 ... As I understand it Keith Elwin, Stern's hottest designer was brought on in the same way. ... Steve Ritchie got a job designing pinball by showing\\xa0...\"),\n",
       " Document(page_content='Keith Elwin is a game designer and professionally-ranked pinball player. With multiple PAPA victories and being ranked first several times in the IFPA World\\xa0...'),\n",
       " Document(page_content='Apr 11, 2023 ... Thank you for the award and I hope to keep it going!” His designs include Iron Maiden, Jurassic Park, The Avengers: Infinity Quest, Godzilla and\\xa0...'),\n",
       " Document(page_content=\"Aug 9, 2018 ... With Keith Elwin (KME). Flyer. Keith Elwin is a pinball designer for Stern Pinball. Also, he's pretty good at competitive pinball. Around the\\xa0...\"),\n",
       " Document(page_content='... designing pinball games at Stern Pinball, alongside top-ranking competitive player Keith Elwin and popular pinball streamer Jack Danger. Some Stern\\xa0...'),\n",
       " Document(page_content='Sep 28, 2020 ... Keith is the new pinball designer on the block who has just finished his third game for Stern Pinball, Avengers Infinity Quest! Just looking at\\xa0...'),\n",
       " Document(page_content=\"Mar 2, 2023 ... It's not just Jack and Scott – both Eric Meunier at Jersey Jack and Keith Elwin (who you know from designing your fave pinball machine and being\\xa0...\")]"
      ]
     },
     "execution_count": 35,
     "metadata": {},
     "output_type": "execute_result"
    }
   ],
   "source": [
    "gr = GoogleRetriever()\n",
    "gr.get_relevant_documents(\"keith elwin pinball designer\")"
   ]
  },
  {
   "cell_type": "markdown",
   "metadata": {
    "application/vnd.databricks.v1+cell": {
     "cellMetadata": {
      "byteLimit": 2048000,
      "rowLimit": 10000
     },
     "inputWidgets": {},
     "nuid": "8e80b700-eef0-4261-9428-cea39da3d721",
     "showTitle": false,
     "title": ""
    },
    "id": "HWGy0bxeY74S"
   },
   "source": [
    "As you can see Google gives us much less information to feed into our LLM. While in both cases we requested results from 10 web results, the You.com Search API will attempt to give multiple text snippets per web result. To further demonstrate, we can now get predictions from the exact same LLM so we do our best to isolate the experiment to evaluating the search APIs."
   ]
  },
  {
   "cell_type": "code",
   "execution_count": null,
   "metadata": {
    "application/vnd.databricks.v1+cell": {
     "cellMetadata": {
      "byteLimit": 2048000,
      "rowLimit": 10000
     },
     "inputWidgets": {},
     "nuid": "3551a335-1cdc-4e96-beca-dda0ced9bd47",
     "showTitle": false,
     "title": ""
    },
    "id": "HBa9xG20Y74T"
   },
   "outputs": [],
   "source": [
    "google_qa = RetrievalQA.from_chain_type(\n",
    "    llm=ChatOpenAI(model=model), chain_type=\"stuff\", retriever=gr\n",
    ")"
   ]
  },
  {
   "cell_type": "markdown",
   "metadata": {
    "application/vnd.databricks.v1+cell": {
     "cellMetadata": {
      "byteLimit": 2048000,
      "rowLimit": 10000
     },
     "inputWidgets": {},
     "nuid": "1ea24f82-c17c-4ea7-9317-0fbbff72c3cb",
     "showTitle": false,
     "title": ""
    },
    "id": "WThkJT49Y74T"
   },
   "source": [
    "Let's get a sample from our dataset."
   ]
  },
  {
   "cell_type": "code",
   "execution_count": null,
   "metadata": {
    "application/vnd.databricks.v1+cell": {
     "cellMetadata": {
      "byteLimit": 2048000,
      "rowLimit": 10000
     },
     "inputWidgets": {},
     "nuid": "3ea1eaa7-6299-4f51-a81f-229d3d7601e6",
     "showTitle": false,
     "title": ""
    },
    "id": "FFrqPYORY74T"
   },
   "outputs": [],
   "source": [
    "SAMPLE_SIZE = 20\n",
    "hotpot_pds = hotpot_ds.to_pandas()\n",
    "hotpot_pds_sample = hotpot_pds.sample(SAMPLE_SIZE, random_state=123).reset_index()"
   ]
  },
  {
   "cell_type": "code",
   "execution_count": null,
   "metadata": {
    "application/vnd.databricks.v1+cell": {
     "cellMetadata": {
      "byteLimit": 2048000,
      "rowLimit": 10000
     },
     "inputWidgets": {},
     "nuid": "73623865-300a-4487-be68-c5cf0b680b98",
     "showTitle": false,
     "title": ""
    },
    "id": "qemLPPOFY74T"
   },
   "outputs": [],
   "source": [
    "from concurrent.futures import ThreadPoolExecutor\n",
    "from tqdm import tqdm\n",
    "\n",
    "\n",
    "# This function is a simple way to parallelize calls to OpenAI in our pandas apply\n",
    "def parallel_progress_apply(column, callback, num_workers):\n",
    "    with ThreadPoolExecutor(max_workers=num_workers) as executor:\n",
    "        return list(tqdm(executor.map(callback, column), total=len(column)))\n",
    "\n",
    "\n",
    "# This function is a utility for our parallel pandas apply\n",
    "def get_run_chain_function(chain):\n",
    "    def run_chain(example):\n",
    "        try:\n",
    "            return chain(example)[\"result\"]\n",
    "        except:\n",
    "            return \"\"\n",
    "    return run_chain"
   ]
  },
  {
   "cell_type": "markdown",
   "metadata": {
    "application/vnd.databricks.v1+cell": {
     "cellMetadata": {
      "byteLimit": 2048000,
      "rowLimit": 10000
     },
     "inputWidgets": {},
     "nuid": "5fcc143d-d41d-4162-b579-22e3c9bb65d7",
     "showTitle": false,
     "title": ""
    },
    "id": "GWrl6Go2Y74U"
   },
   "source": [
    "Now we get predictions from the LLM using each search API's results. It's important to remember that at this point we have done everything we can to ensure the only thing we're testing is the quality of search results for use by an LLM to answer these questions."
   ]
  },
  {
   "cell_type": "code",
   "execution_count": null,
   "metadata": {
    "application/vnd.databricks.v1+cell": {
     "cellMetadata": {
      "byteLimit": 2048000,
      "rowLimit": 10000
     },
     "inputWidgets": {},
     "nuid": "a3928feb-bef7-4fe6-8945-c0a0f12acdc4",
     "showTitle": false,
     "title": ""
    },
    "id": "DeIoSDObY74U",
    "outputId": "1b3728ba-d3e6-437d-8e0d-619d5bd9be18"
   },
   "outputs": [
    {
     "name": "stderr",
     "output_type": "stream",
     "text": [
      "100%|████████████████████████████████████████████████████████████████████████████████████████████████████████████████████████████████████████████████| 20/20 [00:18<00:00,  1.06it/s]\n"
     ]
    }
   ],
   "source": [
    "hotpot_pds_sample[\"ydc_prediction\"] = parallel_progress_apply(\n",
    "    hotpot_pds_sample[\"question\"], lambda x: get_run_chain_function(qa)(x), num_workers=4\n",
    ")\n",
    "hotpot_pds_sample[\"google_prediction\"] = hotpot_pds_sample[\"question\"].apply(get_run_chain_function(google_qa))"
   ]
  },
  {
   "cell_type": "markdown",
   "metadata": {
    "application/vnd.databricks.v1+cell": {
     "cellMetadata": {
      "byteLimit": 2048000,
      "rowLimit": 10000
     },
     "inputWidgets": {},
     "nuid": "e0705978-f6a9-4424-9223-14fc1d5c8940",
     "showTitle": false,
     "title": ""
    },
    "id": "Cz6pPzSwY74U"
   },
   "source": [
    "### Calculating Scores\n",
    "We use the F1 score function from the hotpot repository to ensure we are as close to the evaluation setting that was presented in the paper."
   ]
  },
  {
   "cell_type": "code",
   "execution_count": null,
   "metadata": {
    "application/vnd.databricks.v1+cell": {
     "cellMetadata": {
      "byteLimit": 2048000,
      "rowLimit": 10000
     },
     "inputWidgets": {},
     "nuid": "b767b975-fc98-4868-b209-3e61be1e0d8b",
     "showTitle": false,
     "title": ""
    },
    "id": "dO0oLsDFY74U"
   },
   "outputs": [],
   "source": [
    "import re\n",
    "import string\n",
    "from collections import Counter\n",
    "\n",
    "\n",
    "# This is all taken from hotpot_qa source code with minor modifications to only return the f1 instead of the (P,R,F1) tuple\n",
    "# https://github.com/hotpotqa/hotpot/blob/master/hotpot_evaluate_v1.py#L26\n",
    "def calculate_f1_score(prediction, ground_truth):\n",
    "    normalized_prediction = normalize_answer(prediction)\n",
    "    normalized_ground_truth = normalize_answer(ground_truth)\n",
    "\n",
    "    ZERO_METRIC = 0\n",
    "\n",
    "    if (\n",
    "        normalized_prediction in [\"yes\", \"no\", \"noanswer\"]\n",
    "        and normalized_prediction != normalized_ground_truth\n",
    "    ):\n",
    "        return ZERO_METRIC\n",
    "    if (\n",
    "        normalized_ground_truth in [\"yes\", \"no\", \"noanswer\"]\n",
    "        and normalized_prediction != normalized_ground_truth\n",
    "    ):\n",
    "        return ZERO_METRIC\n",
    "\n",
    "    prediction_tokens = normalized_prediction.split()\n",
    "    ground_truth_tokens = normalized_ground_truth.split()\n",
    "    common = Counter(prediction_tokens) & Counter(ground_truth_tokens)\n",
    "    num_same = sum(common.values())\n",
    "    if num_same == 0:\n",
    "        return 0\n",
    "    precision = 1.0 * num_same / len(prediction_tokens)\n",
    "    recall = 1.0 * num_same / len(ground_truth_tokens)\n",
    "    f1 = (2 * precision * recall) / (precision + recall)\n",
    "    return f1\n",
    "\n",
    "\n",
    "def normalize_answer(s):\n",
    "    def remove_articles(text):\n",
    "        return re.sub(r\"\\b(a|an|the)\\b\", \" \", text)\n",
    "\n",
    "    def white_space_fix(text):\n",
    "        return \" \".join(text.split())\n",
    "\n",
    "    def remove_punc(text):\n",
    "        exclude = set(string.punctuation)\n",
    "        return \"\".join(ch for ch in text if ch not in exclude)\n",
    "\n",
    "    def lower(text):\n",
    "        return text.lower()\n",
    "\n",
    "    return white_space_fix(remove_articles(remove_punc(lower(s))))\n",
    "\n",
    "\n",
    "def exact_match_score(prediction, ground_truth):\n",
    "    return normalize_answer(prediction) == normalize_answer(ground_truth)\n",
    "\n",
    "\n",
    "def filter_wiki_citation(snip):\n",
    "    return not snip.startswith(\"- ^\")"
   ]
  },
  {
   "cell_type": "code",
   "execution_count": null,
   "metadata": {
    "application/vnd.databricks.v1+cell": {
     "cellMetadata": {
      "byteLimit": 2048000,
      "rowLimit": 10000
     },
     "inputWidgets": {},
     "nuid": "75514a76-4b89-444e-8bd1-45d7cda17fa4",
     "showTitle": false,
     "title": ""
    },
    "id": "OkkKnveBY74V",
    "outputId": "30c21734-c7b2-45f6-e0b7-65d6ecbca9d9"
   },
   "outputs": [
    {
     "name": "stderr",
     "output_type": "stream",
     "text": [
      "100%|█████████████████████████████████████████████████████████████████████████████████████████████████████████████████████████████████████████████| 20/20 [00:00<00:00, 74631.74it/s]\n",
      "100%|████████████████████████████████████████████████████████████████████████████████████████████████████████████████████████████████████████████| 20/20 [00:00<00:00, 139810.13it/s]\n"
     ]
    }
   ],
   "source": [
    "hotpot_pds_sample[\"ydc_f1\"] = parallel_progress_apply(\n",
    "    list(hotpot_pds_sample.iterrows()),\n",
    "    lambda x: calculate_f1_score(x[1][\"ydc_prediction\"], x[1][\"answer\"]),\n",
    "    num_workers=8,\n",
    ")\n",
    "hotpot_pds_sample[\"google_f1\"] = parallel_progress_apply(\n",
    "    list(hotpot_pds_sample.iterrows()),\n",
    "    lambda x: calculate_f1_score(x[1][\"google_prediction\"], x[1][\"answer\"]),\n",
    "    num_workers=8,\n",
    ")"
   ]
  },
  {
   "cell_type": "code",
   "execution_count": null,
   "metadata": {
    "application/vnd.databricks.v1+cell": {
     "cellMetadata": {
      "byteLimit": 2048000,
      "rowLimit": 10000
     },
     "inputWidgets": {},
     "nuid": "f691f864-8be1-49c3-8d20-dfb57c50bdbe",
     "showTitle": false,
     "title": ""
    },
    "id": "b45shs1fY74V",
    "outputId": "3b45d81a-ee74-4387-a902-0c6bd288be23"
   },
   "outputs": [
    {
     "name": "stdout",
     "output_type": "stream",
     "text": [
      "You.com F1\n",
      "0.10276981188745896\n",
      "Google F1\n",
      "0.05933277249066722\n"
     ]
    }
   ],
   "source": [
    "print(\"You.com F1\")\n",
    "print(hotpot_pds_sample[\"ydc_f1\"].mean())\n",
    "print(\"Google F1\")\n",
    "print(hotpot_pds_sample[\"google_f1\"].mean())"
   ]
  },
  {
   "cell_type": "markdown",
   "metadata": {
    "id": "-2I7rwpiY74V"
   },
   "source": [
    "### In Conclusion\n",
    "As you can see, the You.com Search API heavily out-performs Google on this small subset of data. Please stay tuned as You.com will be releasing a much larger search study in the weeks to come. If you would like to be an early access partner of ours please email api@you.com with your background, use case, and expected daily call volume."
   ]
  },
  {
   "cell_type": "code",
   "execution_count": null,
   "metadata": {
    "id": "yrYynHeSY74V"
   },
   "outputs": [],
   "source": []
  }
 ],
 "metadata": {
  "application/vnd.databricks.v1+notebook": {
   "dashboards": [],
   "language": "python",
   "notebookMetadata": {
    "pythonIndentUnit": 4
   },
   "notebookName": "blog notebook",
   "widgets": {}
  },
  "colab": {
   "provenance": []
  },
  "kernelspec": {
   "display_name": "Python 3 (ipykernel)",
   "language": "python",
   "name": "python3"
  },
  "language_info": {
   "codemirror_mode": {
    "name": "ipython",
    "version": 3
   },
   "file_extension": ".py",
   "mimetype": "text/x-python",
   "name": "python",
   "nbconvert_exporter": "python",
   "pygments_lexer": "ipython3",
   "version": "3.11.3"
  }
 },
 "nbformat": 4,
 "nbformat_minor": 1
}
