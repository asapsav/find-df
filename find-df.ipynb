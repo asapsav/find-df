{
 "cells": [
  {
   "cell_type": "code",
   "execution_count": 1,
   "id": "6998472f",
   "metadata": {},
   "outputs": [],
   "source": [
    "data_desc = 'description of the data'"
   ]
  },
  {
   "cell_type": "code",
   "execution_count": 2,
   "id": "c8735157",
   "metadata": {},
   "outputs": [],
   "source": [
    "#import finddf"
   ]
  },
  {
   "cell_type": "code",
   "execution_count": 3,
   "id": "831141b5",
   "metadata": {},
   "outputs": [],
   "source": [
    "#df = finddf(data_desc)"
   ]
  },
  {
   "cell_type": "code",
   "execution_count": null,
   "id": "9d85d392",
   "metadata": {},
   "outputs": [],
   "source": []
  }
 ],
 "metadata": {
  "kernelspec": {
   "display_name": "Python 3 (ipykernel)",
   "language": "python",
   "name": "python3"
  },
  "language_info": {
   "codemirror_mode": {
    "name": "ipython",
    "version": 3
   },
   "file_extension": ".py",
   "mimetype": "text/x-python",
   "name": "python",
   "nbconvert_exporter": "python",
   "pygments_lexer": "ipython3",
   "version": "3.11.3"
  }
 },
 "nbformat": 4,
 "nbformat_minor": 5
}
